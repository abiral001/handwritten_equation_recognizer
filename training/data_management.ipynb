{
 "cells": [
  {
   "cell_type": "code",
   "execution_count": 1,
   "metadata": {},
   "outputs": [],
   "source": [
    "import numpy as np\n",
    "import os\n",
    "import cv2\n",
    "import random\n",
    "import matplotlib.pyplot as plt\n",
    "random.seed(0)"
   ]
  },
  {
   "cell_type": "code",
   "execution_count": 2,
   "metadata": {},
   "outputs": [
    {
     "name": "stdout",
     "output_type": "stream",
     "text": [
      "identifier = 0 and category = (\n",
      "identifier = 1 and category = )\n",
      "identifier = 2 and category = +\n",
      "identifier = 3 and category = -\n",
      "identifier = 4 and category = 0\n",
      "identifier = 5 and category = 1\n",
      "identifier = 6 and category = 2\n",
      "identifier = 7 and category = 3\n",
      "identifier = 8 and category = 4\n",
      "identifier = 9 and category = 5\n",
      "identifier = 10 and category = 6\n",
      "identifier = 11 and category = 7\n",
      "identifier = 12 and category = 8\n",
      "identifier = 13 and category = 9\n",
      "identifier = 14 and category = =\n",
      "identifier = 15 and category = A\n",
      "identifier = 16 and category = b\n",
      "identifier = 17 and category = C\n",
      "identifier = 18 and category = d\n",
      "identifier = 19 and category = i\n",
      "identifier = 20 and category = times\n",
      "identifier = 21 and category = X\n",
      "identifier = 22 and category = y\n",
      "identifier = 23 and category = z\n"
     ]
    }
   ],
   "source": [
    "DIR = 'extracted_images/'\n",
    "CATEGORIES = []\n",
    "\n",
    "for index in os.listdir(DIR):\n",
    "    CATEGORIES.append(index)\n",
    "for i in range(len(CATEGORIES)):\n",
    "    print(\"identifier = %d and category = \" %(i), end='')\n",
    "    print(CATEGORIES[i])"
   ]
  },
  {
   "cell_type": "code",
   "execution_count": 3,
   "metadata": {},
   "outputs": [],
   "source": [
    "def imshow(image, nrows=1, ncols=1, cmap='gray'):\n",
    "    fig, ax = plt.subplots(nrows=nrows, ncols=ncols, figsize=(8, 8))\n",
    "    ax.imshow(image, cmap=cmap)\n",
    "    return fig, ax"
   ]
  },
  {
   "cell_type": "code",
   "execution_count": 5,
   "metadata": {},
   "outputs": [],
   "source": [
    "data = []\n",
    "def create_data():\n",
    "    for category in CATEGORIES:\n",
    "        path = os.path.join(DIR, category)\n",
    "        category_number = CATEGORIES.index(category)\n",
    "        for image in os.listdir(path):\n",
    "            if category_number >= 4 and category_number <=13:\n",
    "                image_array = cv2.imread(os.path.join(path, image), cv2.IMREAD_GRAYSCALE)\n",
    "            else:\n",
    "                image_array = cv2.imread(os.path.join(path, image), cv2.IMREAD_GRAYSCALE)\n",
    "                image_array = cv2.erode(image_array, np.ones((3, 3), np.uint8), iterations=1)\n",
    "                image_array = cv2.copyMakeBorder(image_array, 3, 3, 3, 3, cv2.BORDER_CONSTANT, value = [255.0])\n",
    "                image_array = cv2.resize(image_array, (45, 45))\n",
    "            data.append([image_array, category_number])\n",
    "            \n",
    "create_data()\n",
    "\n",
    "random.shuffle(data)\n",
    "\n"
   ]
  },
  {
   "cell_type": "code",
   "execution_count": null,
   "metadata": {},
   "outputs": [],
   "source": []
  },
  {
   "cell_type": "code",
   "execution_count": null,
   "metadata": {},
   "outputs": [],
   "source": []
  },
  {
   "cell_type": "code",
   "execution_count": null,
   "metadata": {},
   "outputs": [],
   "source": []
  },
  {
   "cell_type": "code",
   "execution_count": null,
   "metadata": {},
   "outputs": [],
   "source": [
    "data2 = np.asarray(data)\n",
    "data2.shape"
   ]
  },
  {
   "cell_type": "code",
   "execution_count": 6,
   "metadata": {},
   "outputs": [],
   "source": [
    "X = []\n",
    "y = []\n",
    "\n",
    "for photo, label in data:\n",
    "    X.append(photo)\n",
    "    y.append(label)\n",
    "\n",
    "X = np.array(X).reshape(-1, 45, 45, 1)\n",
    "y = np.array(y)"
   ]
  },
  {
   "cell_type": "code",
   "execution_count": null,
   "metadata": {},
   "outputs": [],
   "source": [
    "\n"
   ]
  },
  {
   "cell_type": "code",
   "execution_count": null,
   "metadata": {},
   "outputs": [],
   "source": [
    "X.shape"
   ]
  },
  {
   "cell_type": "code",
   "execution_count": null,
   "metadata": {},
   "outputs": [],
   "source": [
    "y.shape"
   ]
  },
  {
   "cell_type": "code",
   "execution_count": null,
   "metadata": {},
   "outputs": [],
   "source": [
    "#y = y.reshape(y.shape[0], 1)\n",
    "y.shape"
   ]
  },
  {
   "cell_type": "code",
   "execution_count": null,
   "metadata": {},
   "outputs": [],
   "source": [
    "y"
   ]
  },
  {
   "cell_type": "code",
   "execution_count": 7,
   "metadata": {},
   "outputs": [],
   "source": [
    "np.save('herX', X)\n",
    "np.save('herY', y)"
   ]
  },
  {
   "cell_type": "code",
   "execution_count": null,
   "metadata": {},
   "outputs": [],
   "source": [
    "data = np.append(X, y)"
   ]
  },
  {
   "cell_type": "code",
   "execution_count": null,
   "metadata": {},
   "outputs": [],
   "source": [
    "data.shape"
   ]
  },
  {
   "cell_type": "code",
   "execution_count": null,
   "metadata": {},
   "outputs": [],
   "source": [
    "data"
   ]
  },
  {
   "cell_type": "code",
   "execution_count": null,
   "metadata": {},
   "outputs": [],
   "source": []
  }
 ],
 "metadata": {
  "kernelspec": {
   "display_name": "Python 3",
   "language": "python",
   "name": "python3"
  },
  "language_info": {
   "codemirror_mode": {
    "name": "ipython",
    "version": 3
   },
   "file_extension": ".py",
   "mimetype": "text/x-python",
   "name": "python",
   "nbconvert_exporter": "python",
   "pygments_lexer": "ipython3",
   "version": "3.6.8"
  }
 },
 "nbformat": 4,
 "nbformat_minor": 2
}

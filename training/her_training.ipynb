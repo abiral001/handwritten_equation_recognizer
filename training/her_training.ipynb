{
 "cells": [
  {
   "cell_type": "code",
   "execution_count": 1,
   "metadata": {},
   "outputs": [
    {
     "data": {
      "text/plain": [
       "\" Project HER-Handwritten Equation Recognizer\\n    Versions\\n    \\n    Current: ASAT1906220907 [Coffee]\\n    Version: 0.32-a [Coffee]\\n    \\n    Changelog:\\n    \\n    S.No.    Version          Build No.                  Release Name           Changes\\n    ------------------------------------------------------------------------------------------------------------------------\\n    1.       0.1-a            ASAT1906152333             Atomic                 Initial Release\\n    \\n    2.       0.11-a           ASUN1906162219             Atomic                 Data Separation for traininng successfullly\\n                                                                                completed and the CNN model's parameters \\n                                                                                have successfully been tweaked\\n                                                                                     \\n    3.       0.12-a           ATUE1906189931             Atomic                 Same as above but with model optimizations\\n                                                                                ## TODOS: encode the labels and train_y_labels\\n                                                                                is broken\\n    \\n    4.       0.2-a            ATUE1906182214             Blizzard               Made the network be trained and tried to fix its\\n                                                                                low accuracy\\n                                                                \\n    5.       0.21-a           AWED1906192300             Blizzard               Reorganized the dataset to include batch size\\n                                                                                started training the model\\n                                                                                     \\n    6.       0.3-a            ATHU1906200804             Coffee                 Re-trained the model for 50 epochs and made\\n                                                                                a snapshot for the next day's demonstration\\n                                                                                \\n    7.       0.31-a           AFRI1906210636             Coffee                 Re-trained and optimized the model\\n    \\n    8.       0.32-a           ASAT1906220907             Coffee                 Final Optimization and freezing of model \\n                                                                                training\\n                                                                            \\n    9.       0.33-a           ASAT1906222344             Coffee                 Snapshot and freezing with final test accuracy \\n                                                                                of 85.71% \\n\""
      ]
     },
     "execution_count": 1,
     "metadata": {},
     "output_type": "execute_result"
    }
   ],
   "source": [
    "''' Project HER-Handwritten Equation Recognizer\n",
    "    Versions\n",
    "    \n",
    "    Current: ASAT1906220907 [Coffee]\n",
    "    Version: 0.32-a [Coffee]\n",
    "    \n",
    "    Changelog:\n",
    "    \n",
    "    S.No.    Version          Build No.                  Release Name           Changes\n",
    "    ------------------------------------------------------------------------------------------------------------------------\n",
    "    1.       0.1-a            ASAT1906152333             Atomic                 Initial Release\n",
    "    \n",
    "    2.       0.11-a           ASUN1906162219             Atomic                 Data Separation for traininng successfullly\n",
    "                                                                                completed and the CNN model's parameters \n",
    "                                                                                have successfully been tweaked\n",
    "                                                                                     \n",
    "    3.       0.12-a           ATUE1906189931             Atomic                 Same as above but with model optimizations\n",
    "                                                                                ## TODOS: encode the labels and train_y_labels\n",
    "                                                                                is broken\n",
    "    \n",
    "    4.       0.2-a            ATUE1906182214             Blizzard               Made the network be trained and tried to fix its\n",
    "                                                                                low accuracy\n",
    "                                                                \n",
    "    5.       0.21-a           AWED1906192300             Blizzard               Reorganized the dataset to include batch size\n",
    "                                                                                started training the model\n",
    "                                                                                     \n",
    "    6.       0.3-a            ATHU1906200804             Coffee                 Re-trained the model for 50 epochs and made\n",
    "                                                                                a snapshot for the next day's demonstration\n",
    "                                                                                \n",
    "    7.       0.31-a           AFRI1906210636             Coffee                 Re-trained and optimized the model\n",
    "    \n",
    "    8.       0.32-a           ASAT1906220907             Coffee                 Final Optimization and freezing of model \n",
    "                                                                                training\n",
    "                                                                            \n",
    "    9.       0.33-a           ASAT1906222344             Coffee                 Snapshot and freezing with final test accuracy \n",
    "                                                                                of 85.71% \n",
    "'''"
   ]
  },
  {
   "cell_type": "code",
   "execution_count": 2,
   "metadata": {},
   "outputs": [],
   "source": [
    "import torch\n",
    "import torch.nn as nn\n",
    "import torch.nn.functional as F\n",
    "import numpy as np\n",
    "from sklearn.model_selection import train_test_split\n",
    "import os\n",
    "from torch.utils.data import DataLoader\n",
    "device = torch.device('cuda:0' if torch.cuda.is_available() else 'cpu')"
   ]
  },
  {
   "cell_type": "code",
   "execution_count": 3,
   "metadata": {},
   "outputs": [],
   "source": [
    "from livelossplot import PlotLosses"
   ]
  },
  {
   "cell_type": "code",
   "execution_count": 4,
   "metadata": {},
   "outputs": [],
   "source": [
    "CATEGORIES = []\n",
    "DIR = 'extracted_images/'\n",
    "for category in os.listdir(DIR):\n",
    "    CATEGORIES.append(category)\n",
    "    \n",
    "np.save('Labels_her', CATEGORIES)"
   ]
  },
  {
   "cell_type": "code",
   "execution_count": 5,
   "metadata": {},
   "outputs": [
    {
     "name": "stdout",
     "output_type": "stream",
     "text": [
      "Model(\n",
      "  (layer1): Sequential(\n",
      "    (0): Conv2d(45, 32, kernel_size=(5, 5), stride=(1, 1), padding=(3, 3))\n",
      "    (1): LeakyReLU(negative_slope=0.01)\n",
      "    (2): MaxPool2d(kernel_size=2, stride=2, padding=0, dilation=1, ceil_mode=False)\n",
      "  )\n",
      "  (layer2): Sequential(\n",
      "    (0): Conv2d(32, 64, kernel_size=(5, 5), stride=(1, 1), padding=(3, 3))\n",
      "    (1): LeakyReLU(negative_slope=0.01)\n",
      "    (2): MaxPool2d(kernel_size=2, stride=2, padding=0, dilation=1, ceil_mode=False)\n",
      "  )\n",
      "  (layer3): Sequential(\n",
      "    (0): Conv2d(64, 128, kernel_size=(5, 5), stride=(1, 1), padding=(3, 3))\n",
      "    (1): LeakyReLU(negative_slope=0.01)\n",
      "    (2): MaxPool2d(kernel_size=2, stride=2, padding=0, dilation=1, ceil_mode=False)\n",
      "  )\n",
      "  (drop_out): Dropout(p=0.5)\n",
      "  (ffnn1): Linear(in_features=896, out_features=500, bias=True)\n",
      "  (ffnn2): Linear(in_features=500, out_features=250, bias=True)\n",
      "  (ffnn3): Linear(in_features=250, out_features=24, bias=True)\n",
      ")\n"
     ]
    }
   ],
   "source": [
    "class Model(nn.Module):\n",
    "    def __init__(self):\n",
    "        super(Model, self).__init__()\n",
    "        self.layer1=nn.Sequential(\n",
    "            nn.Conv2d(45, 32, kernel_size=5, stride=1, padding=3),\n",
    "            nn.LeakyReLU(),\n",
    "            nn.MaxPool2d(kernel_size = 2, stride=2)\n",
    "        )\n",
    "        self.layer2=nn.Sequential(\n",
    "            nn.Conv2d(32, 64, kernel_size=5, stride=1, padding=3),\n",
    "            nn.LeakyReLU(),\n",
    "            nn.MaxPool2d(kernel_size=2, stride=2)\n",
    "        )\n",
    "        self.layer3=nn.Sequential(\n",
    "            nn.Conv2d(64, 128, kernel_size=5, stride=1, padding=3),\n",
    "            nn.LeakyReLU(),\n",
    "            nn.MaxPool2d(kernel_size=2, stride=2)\n",
    "        )\n",
    "        self.drop_out = nn.Dropout()\n",
    "        self.ffnn1 = nn.Linear(128*7, 500)\n",
    "        self.ffnn2 = nn.Linear(500, 250)\n",
    "        self.ffnn3 = nn.Linear(250, 24)\n",
    "        \n",
    "    def forward(self, x):\n",
    "        output = self.layer1(x)\n",
    "        output = self.layer2(output)\n",
    "        output = self.layer3(output)\n",
    "        output = output.reshape(output.size(0), -1)\n",
    "        output = self.drop_out(output)\n",
    "        output = self.ffnn1(output)\n",
    "        output = self.ffnn2(output)\n",
    "        output = self.ffnn3(output)\n",
    "        return F.log_softmax(output)\n",
    "    \n",
    "net = Model().to(device)\n",
    "print(net)   "
   ]
  },
  {
   "cell_type": "code",
   "execution_count": 6,
   "metadata": {},
   "outputs": [
    {
     "data": {
      "text/plain": [
       "(99809, 45, 45, 1)"
      ]
     },
     "execution_count": 6,
     "metadata": {},
     "output_type": "execute_result"
    }
   ],
   "source": [
    "data_X = np.load('herX.npy')/255.\n",
    "data_y = np.load('herY.npy')\n",
    "data_X.shape"
   ]
  },
  {
   "cell_type": "code",
   "execution_count": 7,
   "metadata": {},
   "outputs": [],
   "source": [
    "import os\n",
    "def get_categories(x):\n",
    "    o_path = os.path.join(\"extracted_images/\")\n",
    "    print(os.listdir(o_path)[x])"
   ]
  },
  {
   "cell_type": "code",
   "execution_count": 8,
   "metadata": {},
   "outputs": [],
   "source": [
    "\n",
    "#data_normalize = np.reshape(data_X, (-1,))\n",
    "#data_normalize.shape\n",
    "#data_n = (data_normalize - np.mean(data_normalize))/np.std(data_normalize)\n",
    "#data_X = np.reshape(data_n, (-1, 45, 45, 1))\n",
    "#data_normal = data_X-np.mean(data_X)\n",
    "#data_normal = data_normal/np.max(data_X)\n",
    "#data_X = data_normal"
   ]
  },
  {
   "cell_type": "code",
   "execution_count": 9,
   "metadata": {},
   "outputs": [
    {
     "data": {
      "text/plain": [
       "0.0"
      ]
     },
     "execution_count": 9,
     "metadata": {},
     "output_type": "execute_result"
    }
   ],
   "source": [
    "data_X.min()"
   ]
  },
  {
   "cell_type": "code",
   "execution_count": 10,
   "metadata": {},
   "outputs": [],
   "source": [
    "#data_X = data_X/255\n",
    "#data_X"
   ]
  },
  {
   "cell_type": "code",
   "execution_count": 11,
   "metadata": {},
   "outputs": [
    {
     "data": {
      "text/plain": [
       "array([10,  0, 12, ...,  9, 23,  9])"
      ]
     },
     "execution_count": 11,
     "metadata": {},
     "output_type": "execute_result"
    }
   ],
   "source": [
    "data_y"
   ]
  },
  {
   "cell_type": "code",
   "execution_count": 12,
   "metadata": {},
   "outputs": [],
   "source": [
    "train_X, test_X, train_y, test_y = train_test_split(data_X, data_y, \n",
    "                                                    test_size = 0.33, \n",
    "                                                    random_state = 42)"
   ]
  },
  {
   "cell_type": "code",
   "execution_count": 13,
   "metadata": {},
   "outputs": [],
   "source": [
    "train_X_tensor = torch.from_numpy(train_X).float().to(device)\n",
    "train_y_tensor = torch.from_numpy(train_y).long().to(device)\n",
    "test_X_tensor = torch.from_numpy(test_X).float().to(device)\n",
    "test_y_tensor = torch.from_numpy(test_y).long().to(device)\n",
    "\n",
    "train_X_data = DataLoader(dataset=train_X_tensor, batch_size = 300, shuffle = False)\n",
    "train_y_data = DataLoader(dataset =train_y_tensor, batch_size = 300, shuffle = False)\n",
    "test_X_data = DataLoader(dataset=test_X_tensor, batch_size = 300, shuffle = False)\n",
    "test_y_data = DataLoader(dataset =test_y_tensor, batch_size = 300, shuffle = False)"
   ]
  },
  {
   "cell_type": "code",
   "execution_count": 14,
   "metadata": {},
   "outputs": [],
   "source": [
    "#import matplotlib.pyplot as plt\n",
    "#from skimage.color import rgb2gray\n",
    "#npx = next(iter(train_X_data)).cpu().numpy()*255\n",
    "#npy = next(iter(train_y_data)).cpu().numpy()\n",
    "#npx = npx[0,:,:,0]\n",
    "#npx.shape\n",
    "#plt.imshow(npx, cmap='gray')\n",
    "#print(npy)"
   ]
  },
  {
   "cell_type": "code",
   "execution_count": 15,
   "metadata": {},
   "outputs": [
    {
     "data": {
      "text/plain": [
       "(66872, 45, 45, 1)"
      ]
     },
     "execution_count": 15,
     "metadata": {},
     "output_type": "execute_result"
    }
   ],
   "source": [
    "train_X.shape"
   ]
  },
  {
   "cell_type": "code",
   "execution_count": 16,
   "metadata": {},
   "outputs": [
    {
     "data": {
      "text/plain": [
       "(66872,)"
      ]
     },
     "execution_count": 16,
     "metadata": {},
     "output_type": "execute_result"
    }
   ],
   "source": [
    "train_y.shape"
   ]
  },
  {
   "cell_type": "code",
   "execution_count": 17,
   "metadata": {},
   "outputs": [
    {
     "data": {
      "text/plain": [
       "(32937, 45, 45, 1)"
      ]
     },
     "execution_count": 17,
     "metadata": {},
     "output_type": "execute_result"
    }
   ],
   "source": [
    "test_X.shape"
   ]
  },
  {
   "cell_type": "code",
   "execution_count": 18,
   "metadata": {},
   "outputs": [
    {
     "data": {
      "text/plain": [
       "(32937,)"
      ]
     },
     "execution_count": 18,
     "metadata": {},
     "output_type": "execute_result"
    }
   ],
   "source": [
    "test_y.shape"
   ]
  },
  {
   "cell_type": "code",
   "execution_count": 19,
   "metadata": {},
   "outputs": [],
   "source": [
    "learning_rate = 0.001\n",
    "epochs_total = 1000"
   ]
  },
  {
   "cell_type": "code",
   "execution_count": 20,
   "metadata": {},
   "outputs": [],
   "source": [
    "criterion = nn.CrossEntropyLoss()\n",
    "optimizer = torch.optim.Adam(net.parameters(), lr = learning_rate)\n",
    "import matplotlib.pyplot as plt"
   ]
  },
  {
   "cell_type": "code",
   "execution_count": 21,
   "metadata": {},
   "outputs": [
    {
     "name": "stdout",
     "output_type": "stream",
     "text": [
      "[ 6  6  7  4  8  5 14  5  6  5  1 10 11  7  0  5  5  7 11 11 15 14 11 12\n",
      " 15  4  6 14  6 11  2  7  7  3  2  1  7  3 13 15  2 10 10 12 10 11  8  8\n",
      "  5  7  4  7  2  4  4 10  2  4  2 22  5 13 16  4  6  8 13 15 13 14  8 14\n",
      " 12 11  2 21 15 10 11  2 13 12 13  7  9 12  8 16  5  4  0  5 11  8  6  6\n",
      " 14  8 14 13 10  4 13 13 19 11  9  2  7  4  5 22  5 11  1  2 14  6 18 13\n",
      " 19  8 11 13 11  8 15  2  9  4 13 13  2  0 12 12  5  9 11 10  2  2  7  5\n",
      " 13  4  8  3  1  8  5 10 13  3  4 11 10 13 21 14 22 21  5 17 12  3  3 13\n",
      "  9 10  2 22  4  5  0 12 13  6  2  5 13 14 13 21 11  4 13  5 21  6  3  6\n",
      "  7 21 19  4  2 18 12 10 16 15 14  3  7 20  7 13  6  6  4  2  8  2 10  4\n",
      "  2 22  1  7  9  2 14  2  7 12 21 11 18 10 10  3 12  7 21  4 12  7 14 15\n",
      "  6  3 10 13  5 12 11 18  5  5  2 10  2  2  8 11 21 16  4  3  7 14  6 21\n",
      " 12  4 15 21  2  0  2  8  1  2  3  6  6 13 11 12  9 14  8  2  2  7  7 10\n",
      "  9 15  4 10  5 21 11 17  3 13 15  7]\n"
     ]
    }
   ],
   "source": [
    "print(next(iter(train_y_data)).cpu().numpy())"
   ]
  },
  {
   "cell_type": "code",
   "execution_count": null,
   "metadata": {},
   "outputs": [],
   "source": []
  },
  {
   "cell_type": "code",
   "execution_count": null,
   "metadata": {},
   "outputs": [],
   "source": []
  },
  {
   "cell_type": "code",
   "execution_count": 22,
   "metadata": {},
   "outputs": [],
   "source": [
    "#DataLoader?\n",
    "#jj = train_y[0]\n",
    "#jj.shape"
   ]
  },
  {
   "cell_type": "code",
   "execution_count": 23,
   "metadata": {},
   "outputs": [],
   "source": [
    "#data_x = DataLoader(dataset = train_X_tensor, batch_size = 100)\n",
    "#data_y = DataLoader(dataset = train_y_tensor, batch_size = 100)\n",
    "#len(data_x), len(data_y)"
   ]
  },
  {
   "cell_type": "code",
   "execution_count": 24,
   "metadata": {},
   "outputs": [],
   "source": [
    "#for i, (image, label) in enumerate(zip(data_x, data_y)):\n",
    "#im = train_X_tensor[0]\n",
    "#lb = train_y_tensor[0]\n",
    "#im = im.view(-1,45, 45, 1)\n",
    "#op = net(im)\n",
    "#print(op.cpu().detach().numpy().shape)\n",
    "#print(lb.cpu().detach().numpy().shape)\n",
    "#mp = op.cpu()\n",
    "#mp = mp.detach().numpy()\n",
    "#lp = lb.cpu().detach().numpy()\n",
    "#print(mp.shape)\n",
    "#jp = np.array([39])\n",
    "#jp = torch.from_numpy(jp).cuda().long()\n",
    "#loss = criterion(op, lb)\n",
    "#print(loss)"
   ]
  },
  {
   "cell_type": "code",
   "execution_count": 25,
   "metadata": {
    "scrolled": true
   },
   "outputs": [
    {
     "data": {
      "text/plain": [
       "\"loss_list = []\\ntotal_step = len(train_X_tensor)\\ntotal = 0\\ncorrect = 0\\nfor epoch in range(epochs_total):\\n\\n    for i, (image, label) in enumerate(zip(train_X_tensor, train_y_tensor)):\\n        image = image.view(-1, 45, 45, 1)\\n        output = net(image)\\n        loss = criterion(output, label)\\n        loss_list.append(loss.item())\\n        optimizer.zero_grad()\\n        loss.backward()\\n        optimizer.step()\\n        total=total+1\\n        _, predicted = torch.max(output.data, 1)\\n        if predicted == label:\\n            correct = correct + 1\\n        if (i+1)%5000==0:\\n            print('Epochs [{}/{}], Step [{}/{}], loss: {:.4f}, Accuracy: {:.2f}, total item tested/ total correct = [{}/{}]'\\n                         .format(epoch+1, epochs_total, i+1, total_step, loss.item(),\\n                                (correct/total)*100, total, correct\\n                                )\\n                 )\""
      ]
     },
     "execution_count": 25,
     "metadata": {},
     "output_type": "execute_result"
    }
   ],
   "source": [
    "'''loss_list = []\n",
    "total_step = len(train_X_tensor)\n",
    "total = 0\n",
    "correct = 0\n",
    "for epoch in range(epochs_total):\n",
    "\n",
    "    for i, (image, label) in enumerate(zip(train_X_tensor, train_y_tensor)):\n",
    "        image = image.view(-1, 45, 45, 1)\n",
    "        output = net(image)\n",
    "        loss = criterion(output, label)\n",
    "        loss_list.append(loss.item())\n",
    "        optimizer.zero_grad()\n",
    "        loss.backward()\n",
    "        optimizer.step()\n",
    "        total=total+1\n",
    "        _, predicted = torch.max(output.data, 1)\n",
    "        if predicted == label:\n",
    "            correct = correct + 1\n",
    "        if (i+1)%5000==0:\n",
    "            print('Epochs [{}/{}], Step [{}/{}], loss: {:.4f}, Accuracy: {:.2f}, total item tested/ total correct = [{}/{}]'\n",
    "                         .format(epoch+1, epochs_total, i+1, total_step, loss.item(),\n",
    "                                (correct/total)*100, total, correct\n",
    "                                )\n",
    "                 )'''"
   ]
  },
  {
   "cell_type": "code",
   "execution_count": 26,
   "metadata": {},
   "outputs": [
    {
     "data": {
      "text/plain": [
       "True"
      ]
     },
     "execution_count": 26,
     "metadata": {},
     "output_type": "execute_result"
    }
   ],
   "source": [
    "torch.cuda.is_available()"
   ]
  },
  {
   "cell_type": "code",
   "execution_count": 27,
   "metadata": {},
   "outputs": [
    {
     "data": {
      "text/plain": [
       "\"net.eval()\\nwith torch.no_grad():\\n    correct = 0\\n    total = 0\\n    for images, labels in zip(test_X_tensor, test_y_tensor):\\n        images = images.view(-1, 45, 45, 1)\\n        test_output = net(images)\\n        _, predicted = torch.max(test_output.data, 1)\\n        total = total + 1\\n        if predicted==labels:\\n            correct = correct + 1\\n    print('Test Accuracy of the model is ', correct/total*100)\\n\""
      ]
     },
     "execution_count": 27,
     "metadata": {},
     "output_type": "execute_result"
    }
   ],
   "source": [
    "'''net.eval()\n",
    "with torch.no_grad():\n",
    "    correct = 0\n",
    "    total = 0\n",
    "    for images, labels in zip(test_X_tensor, test_y_tensor):\n",
    "        images = images.view(-1, 45, 45, 1)\n",
    "        test_output = net(images)\n",
    "        _, predicted = torch.max(test_output.data, 1)\n",
    "        total = total + 1\n",
    "        if predicted==labels:\n",
    "            correct = correct + 1\n",
    "    print('Test Accuracy of the model is ', correct/total*100)\n",
    "'''\n"
   ]
  },
  {
   "cell_type": "code",
   "execution_count": null,
   "metadata": {},
   "outputs": [],
   "source": []
  },
  {
   "cell_type": "code",
   "execution_count": 28,
   "metadata": {},
   "outputs": [
    {
     "data": {
      "image/png": "[encoded data removed]",
      "text/plain": [
       "<Figure size 864x576 with 2 Axes>"
      ]
     },
     "metadata": {
      "needs_background": "light"
     },
     "output_type": "display_data"
    },
    {
     "name": "stdout",
     "output_type": "stream",
     "text": [
      "loss:\n",
      "training   (min:    0.011, max:    0.641, cur:    0.017)\n",
      "\n",
      "accuracy:\n",
      "training   (min:   81.985, max:   99.632, cur:   99.265)\n"
     ]
    },
    {
     "ename": "KeyboardInterrupt",
     "evalue": "",
     "output_type": "error",
     "traceback": [
      "\u001b[1;31m---------------------------------------------------------------------------\u001b[0m",
      "\u001b[1;31mKeyboardInterrupt\u001b[0m                         Traceback (most recent call last)",
      "\u001b[1;32m<ipython-input-28-a640222b6e34>\u001b[0m in \u001b[0;36m<module>\u001b[1;34m\u001b[0m\n\u001b[0;32m     13\u001b[0m         \u001b[0moptimizer\u001b[0m\u001b[1;33m.\u001b[0m\u001b[0mzero_grad\u001b[0m\u001b[1;33m(\u001b[0m\u001b[1;33m)\u001b[0m\u001b[1;33m\u001b[0m\u001b[1;33m\u001b[0m\u001b[0m\n\u001b[0;32m     14\u001b[0m         \u001b[0mloss\u001b[0m\u001b[1;33m.\u001b[0m\u001b[0mbackward\u001b[0m\u001b[1;33m(\u001b[0m\u001b[1;33m)\u001b[0m\u001b[1;33m\u001b[0m\u001b[1;33m\u001b[0m\u001b[0m\n\u001b[1;32m---> 15\u001b[1;33m         \u001b[0moptimizer\u001b[0m\u001b[1;33m.\u001b[0m\u001b[0mstep\u001b[0m\u001b[1;33m(\u001b[0m\u001b[1;33m)\u001b[0m\u001b[1;33m\u001b[0m\u001b[1;33m\u001b[0m\u001b[0m\n\u001b[0m\u001b[0;32m     16\u001b[0m         \u001b[0mtotal\u001b[0m\u001b[1;33m=\u001b[0m\u001b[0mlabels\u001b[0m\u001b[1;33m.\u001b[0m\u001b[0msize\u001b[0m\u001b[1;33m(\u001b[0m\u001b[1;36m0\u001b[0m\u001b[1;33m)\u001b[0m\u001b[1;33m\u001b[0m\u001b[1;33m\u001b[0m\u001b[0m\n\u001b[0;32m     17\u001b[0m         \u001b[0m_\u001b[0m\u001b[1;33m,\u001b[0m \u001b[0mpredicted\u001b[0m \u001b[1;33m=\u001b[0m \u001b[0mtorch\u001b[0m\u001b[1;33m.\u001b[0m\u001b[0mmax\u001b[0m\u001b[1;33m(\u001b[0m\u001b[0moutputs\u001b[0m\u001b[1;33m.\u001b[0m\u001b[0mdata\u001b[0m\u001b[1;33m,\u001b[0m \u001b[1;36m1\u001b[0m\u001b[1;33m)\u001b[0m\u001b[1;33m\u001b[0m\u001b[1;33m\u001b[0m\u001b[0m\n",
      "\u001b[1;32mD:\\Anaconda3\\envs\\gpu\\lib\\site-packages\\torch\\optim\\adam.py\u001b[0m in \u001b[0;36mstep\u001b[1;34m(self, closure)\u001b[0m\n\u001b[0;32m    105\u001b[0m                 \u001b[0mstep_size\u001b[0m \u001b[1;33m=\u001b[0m \u001b[0mgroup\u001b[0m\u001b[1;33m[\u001b[0m\u001b[1;34m'lr'\u001b[0m\u001b[1;33m]\u001b[0m \u001b[1;33m*\u001b[0m \u001b[0mmath\u001b[0m\u001b[1;33m.\u001b[0m\u001b[0msqrt\u001b[0m\u001b[1;33m(\u001b[0m\u001b[0mbias_correction2\u001b[0m\u001b[1;33m)\u001b[0m \u001b[1;33m/\u001b[0m \u001b[0mbias_correction1\u001b[0m\u001b[1;33m\u001b[0m\u001b[1;33m\u001b[0m\u001b[0m\n\u001b[0;32m    106\u001b[0m \u001b[1;33m\u001b[0m\u001b[0m\n\u001b[1;32m--> 107\u001b[1;33m                 \u001b[0mp\u001b[0m\u001b[1;33m.\u001b[0m\u001b[0mdata\u001b[0m\u001b[1;33m.\u001b[0m\u001b[0maddcdiv_\u001b[0m\u001b[1;33m(\u001b[0m\u001b[1;33m-\u001b[0m\u001b[0mstep_size\u001b[0m\u001b[1;33m,\u001b[0m \u001b[0mexp_avg\u001b[0m\u001b[1;33m,\u001b[0m \u001b[0mdenom\u001b[0m\u001b[1;33m)\u001b[0m\u001b[1;33m\u001b[0m\u001b[1;33m\u001b[0m\u001b[0m\n\u001b[0m\u001b[0;32m    108\u001b[0m \u001b[1;33m\u001b[0m\u001b[0m\n\u001b[0;32m    109\u001b[0m         \u001b[1;32mreturn\u001b[0m \u001b[0mloss\u001b[0m\u001b[1;33m\u001b[0m\u001b[1;33m\u001b[0m\u001b[0m\n",
      "\u001b[1;31mKeyboardInterrupt\u001b[0m: "
     ]
    }
   ],
   "source": [
    "net.train()\n",
    "liveloss=PlotLosses()\n",
    "total_step = len(train_X_data)\n",
    "loss_list = []\n",
    "acc_list = []\n",
    "correct = 0\n",
    "total = 0\n",
    "for epoch in range(epochs_total):\n",
    "    logs={}\n",
    "    for i, (images, labels) in enumerate(zip(train_X_data, train_y_data)):\n",
    "        outputs = net(images)\n",
    "        loss = criterion(outputs, labels)\n",
    "        optimizer.zero_grad()\n",
    "        loss.backward()\n",
    "        optimizer.step()\n",
    "        total=labels.size(0)\n",
    "        _, predicted = torch.max(outputs.data, 1)\n",
    "        correct = (predicted == labels).sum().item()\n",
    "        \n",
    "        logs['loss'] = loss.item()\n",
    "        logs['accuracy'] = correct/total*100\n",
    "        \n",
    "        if (i+1)%100==0:\n",
    "            print('Epochs [{}/{}], Step [{}/{}], loss: {:.4f}, Accuracy: {:.2f}'\n",
    "                  .format(epoch+1, epochs_total, i+1, total_step, loss.item(), \n",
    "                          (correct/total)*100))\n",
    "    liveloss.update(logs)\n",
    "    liveloss.draw()\n",
    "    "
   ]
  },
  {
   "cell_type": "code",
   "execution_count": 29,
   "metadata": {},
   "outputs": [
    {
     "name": "stderr",
     "output_type": "stream",
     "text": [
      "D:\\Anaconda3\\envs\\gpu\\lib\\site-packages\\ipykernel_launcher.py:33: UserWarning: Implicit dimension choice for log_softmax has been deprecated. Change the call to include dim=X as an argument.\n"
     ]
    },
    {
     "name": "stdout",
     "output_type": "stream",
     "text": [
      "Test Accuracy of the model on the test images: 98.31223628691983 %\n"
     ]
    }
   ],
   "source": [
    "net.eval()\n",
    "with torch.no_grad():\n",
    "    correct = 0\n",
    "    total = 0\n",
    "    for i, (images, labels) in enumerate(zip(test_X_data, test_y_data)):\n",
    "        outputs = net(images)\n",
    "        _, predicted = torch.max(outputs.data, 1)\n",
    "        total=labels.size(0)\n",
    "        correct = (predicted == labels).sum().item()\n",
    "        \n",
    "        \n",
    "    print('Test Accuracy of the model on the test images: {} %'\n",
    "         .format((correct/total)*100))\n",
    "    \n",
    "    \n",
    "    "
   ]
  },
  {
   "cell_type": "code",
   "execution_count": 30,
   "metadata": {},
   "outputs": [],
   "source": [
    "torch.save(net.state_dict(), 'her_model2')"
   ]
  },
  {
   "cell_type": "code",
   "execution_count": null,
   "metadata": {},
   "outputs": [],
   "source": [
    "net.load_state_dict(torch.load('her_model2'))"
   ]
  },
  {
   "cell_type": "code",
   "execution_count": null,
   "metadata": {},
   "outputs": [],
   "source": [
    "accuracy = np.asarray(accuracy_list)\n",
    "loss = np.asarray(loss_list)"
   ]
  },
  {
   "cell_type": "code",
   "execution_count": null,
   "metadata": {},
   "outputs": [],
   "source": [
    "np.save('acc', accuracy)\n",
    "np.save('loss', loss)"
   ]
  },
  {
   "cell_type": "code",
   "execution_count": null,
   "metadata": {},
   "outputs": [],
   "source": []
  },
  {
   "cell_type": "code",
   "execution_count": null,
   "metadata": {},
   "outputs": [],
   "source": [
    "import matplotlib.pyplot as plt\n",
    "import scipy\n",
    "import cv2\n",
    "from skimage.color import rgb2gray\n",
    "image = cv2.imread('eq2.png')\n",
    "image = cv2.resize(image, (45, 45))\n",
    "image = rgb2gray(image)\n",
    "image2 = image.reshape(image.shape[0]*image.shape[1])\n",
    "#for i in range(image2.shape[0]):\n",
    "#    if image2[i] > 1:\n",
    "#        image2[i] = 1\n",
    "image = image2.reshape(image.shape[0], image.shape[1])\n",
    "image_tensor = image/255.\n",
    "#temp_img = cv2.dilate(image_tensor, np.ones((2, 3), np.uint8), iterations=1)\n",
    "#temp_img = cv2.copyMakeBorder(temp_img, 5, 5, 5, 5, cv2.BORDER_CONSTANT, value= [2.])\n",
    "temp_img = cv2.resize(temp_img, (45, 45))\n",
    "image_tensor = torch.from_numpy(temp_img).float().to(device)\n",
    "image_tensor = image_tensor.view(-1, 45, 45, 1)\n",
    "net.eval()\n",
    "with torch.no_grad():\n",
    "    outputs = net(image_tensor)\n",
    "    _, predicted = torch.max(outputs.data, 1)\n",
    "    print('predicted = ', end = ' ')\n",
    "    get_categories(predicted)\n",
    "    plt.imshow(image_tensor.cpu().detach().numpy().reshape(45, 45), cmap='gray')\n",
    "    plt.show()"
   ]
  },
  {
   "cell_type": "code",
   "execution_count": null,
   "metadata": {},
   "outputs": [],
   "source": []
  }
 ],
 "metadata": {
  "kernelspec": {
   "display_name": "Python 3",
   "language": "python",
   "name": "python3"
  },
  "language_info": {
   "codemirror_mode": {
    "name": "ipython",
    "version": 3
   },
   "file_extension": ".py",
   "mimetype": "text/x-python",
   "name": "python",
   "nbconvert_exporter": "python",
   "pygments_lexer": "ipython3",
   "version": "3.6.8"
  }
 },
 "nbformat": 4,
 "nbformat_minor": 2
}
